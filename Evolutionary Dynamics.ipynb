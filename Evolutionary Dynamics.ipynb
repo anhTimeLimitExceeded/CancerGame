{
 "cells": [
  {
   "cell_type": "code",
   "execution_count": 2,
   "metadata": {},
   "outputs": [],
   "source": [
    "from mpl_toolkits.mplot3d import axes3d\n",
    "import matplotlib.pyplot as plt\n",
    "import numpy as np\n",
    "%matplotlib inline"
   ]
  },
  {
   "cell_type": "code",
   "execution_count": 3,
   "metadata": {},
   "outputs": [],
   "source": [
    "xd = 0.04\n",
    "xg = 0.9\n",
    "xv = 0.06\n",
    "ba = 37.5\n",
    "bv = 2\n",
    "c = 1\n",
    "n = 4"
   ]
  },
  {
   "cell_type": "code",
   "execution_count": 4,
   "metadata": {},
   "outputs": [
    {
     "name": "stdout",
     "output_type": "stream",
     "text": [
      "1.2449141630901308 -2.958104434907004 -3.1934120171673763\n"
     ]
    }
   ],
   "source": [
    "ngbinomial = np.mean(np.random.binomial(n, xg, 1000))       #Ng ~ Bn(xg) \n",
    "multinomial = np.random.multinomial(n, [xg,xv,xd], 1000)    #generate random multinomial 1000 times      \n",
    "ngmultinomial = np.mean(multinomial[:,0])                   #Ng ~ Mn(xg,xv) \n",
    "nv = np.mean(multinomial[:,1])                              #Nv ~ Mn(xg,xv) \n",
    "\n",
    "wg = (ba*(ngbinomial+1))/(n+1)\n",
    "wv = (ba*ngbinomial)/(n+1) + (bv*(nv+1))/(n-ngmultinomial+1) - c\n",
    "wd = (ba*ngbinomial)/(n+1) + (bv*nv)/(n-ngmultinomial+1)\n",
    "\n",
    "w = xg*wg + xv*wv + xd*wd\n",
    "\n",
    "xg_ot = xg * (wg - w) #xg_overtime\n",
    "xv_ot = xv * (wv - w)\n",
    "xd_ot = xd * (wd - w)\n",
    "\n",
    "xg = (wg - w)/2 + xg\n",
    "xv = (wv - w)/2 + xv\n",
    "xd = (wd - w)/2 + xd\n",
    "print(xg,xv,xd)"
   ]
  },
  {
   "cell_type": "code",
   "execution_count": 358,
   "metadata": {
    "collapsed": true
   },
   "outputs": [
    {
     "ename": "ValueError",
     "evalue": "p > 1",
     "output_type": "error",
     "traceback": [
      "\u001b[1;31m---------------------------------------------------------------------------\u001b[0m",
      "\u001b[1;31mValueError\u001b[0m                                Traceback (most recent call last)",
      "\u001b[1;32m<ipython-input-358-51b4fdf88213>\u001b[0m in \u001b[0;36m<module>\u001b[1;34m\u001b[0m\n\u001b[0;32m      1\u001b[0m \u001b[0mpoints\u001b[0m \u001b[1;33m=\u001b[0m \u001b[1;33m[\u001b[0m\u001b[1;33m]\u001b[0m\u001b[1;33m\u001b[0m\u001b[1;33m\u001b[0m\u001b[0m\n\u001b[0;32m      2\u001b[0m \u001b[1;32mfor\u001b[0m \u001b[0mi\u001b[0m \u001b[1;32min\u001b[0m \u001b[0mrange\u001b[0m \u001b[1;33m(\u001b[0m\u001b[1;36m0\u001b[0m\u001b[1;33m,\u001b[0m\u001b[1;36m20\u001b[0m\u001b[1;33m)\u001b[0m\u001b[1;33m:\u001b[0m\u001b[1;33m\u001b[0m\u001b[1;33m\u001b[0m\u001b[0m\n\u001b[1;32m----> 3\u001b[1;33m     \u001b[0mngbinomial\u001b[0m \u001b[1;33m=\u001b[0m \u001b[0mnp\u001b[0m\u001b[1;33m.\u001b[0m\u001b[0mmean\u001b[0m\u001b[1;33m(\u001b[0m\u001b[0mnp\u001b[0m\u001b[1;33m.\u001b[0m\u001b[0mrandom\u001b[0m\u001b[1;33m.\u001b[0m\u001b[0mbinomial\u001b[0m\u001b[1;33m(\u001b[0m\u001b[0mn\u001b[0m\u001b[1;33m,\u001b[0m \u001b[0mxg\u001b[0m\u001b[1;33m,\u001b[0m \u001b[1;36m1000\u001b[0m\u001b[1;33m)\u001b[0m\u001b[1;33m)\u001b[0m\u001b[1;33m\u001b[0m\u001b[1;33m\u001b[0m\u001b[0m\n\u001b[0m\u001b[0;32m      4\u001b[0m     \u001b[0mmultinomial\u001b[0m \u001b[1;33m=\u001b[0m \u001b[0mnp\u001b[0m\u001b[1;33m.\u001b[0m\u001b[0mrandom\u001b[0m\u001b[1;33m.\u001b[0m\u001b[0mmultinomial\u001b[0m\u001b[1;33m(\u001b[0m\u001b[0mn\u001b[0m\u001b[1;33m,\u001b[0m \u001b[1;33m[\u001b[0m\u001b[0mxg\u001b[0m\u001b[1;33m,\u001b[0m\u001b[0mxv\u001b[0m\u001b[1;33m,\u001b[0m\u001b[0mxd\u001b[0m\u001b[1;33m]\u001b[0m\u001b[1;33m,\u001b[0m \u001b[1;36m1000\u001b[0m\u001b[1;33m)\u001b[0m\u001b[1;33m\u001b[0m\u001b[1;33m\u001b[0m\u001b[0m\n\u001b[0;32m      5\u001b[0m     \u001b[0mngmultinomial\u001b[0m \u001b[1;33m=\u001b[0m \u001b[0mnp\u001b[0m\u001b[1;33m.\u001b[0m\u001b[0mmean\u001b[0m\u001b[1;33m(\u001b[0m\u001b[0mmultinomial\u001b[0m\u001b[1;33m[\u001b[0m\u001b[1;33m:\u001b[0m\u001b[1;33m,\u001b[0m\u001b[1;36m0\u001b[0m\u001b[1;33m]\u001b[0m\u001b[1;33m)\u001b[0m\u001b[1;33m\u001b[0m\u001b[1;33m\u001b[0m\u001b[0m\n",
      "\u001b[1;32mmtrand.pyx\u001b[0m in \u001b[0;36mmtrand.RandomState.binomial\u001b[1;34m()\u001b[0m\n",
      "\u001b[1;31mValueError\u001b[0m: p > 1"
     ]
    }
   ],
   "source": [
    "points = []\n",
    "for i in range (0,20):\n",
    "    ngbinomial = np.mean(np.random.binomial(n, xg, 1000))\n",
    "    multinomial = np.random.multinomial(n, [xg,xv,xd], 1000)\n",
    "    ngmultinomial = np.mean(multinomial[:,0])\n",
    "    nv = np.mean(multinomial[:,1])\n",
    "\n",
    "    wg = (ba*(ngbinomial+1))/(n+1)\n",
    "    wv = (ba*ngbinomial)/(n+1) + (bv*(nv+1))/(n-ngmultinomial+1) - c\n",
    "    wd = (ba*ngbinomial)/(n+1) + (bv*nv)/(n-ngmultinomial+1)\n",
    "\n",
    "    w = xg*wg + xv*wv + xd*wd\n",
    "\n",
    "    points.append(i*i*(wg - w)/2 + xg)\n",
    "    xg = xg * (wg - w)\n",
    "    xv = xv * (wv - w)\n",
    "    xd = xd * (wd - w)\n",
    "\n",
    "plt.plot(points)\n",
    "points"
   ]
  }
 ],
 "metadata": {
  "kernelspec": {
   "display_name": "Python 3",
   "language": "python",
   "name": "python3"
  },
  "language_info": {
   "codemirror_mode": {
    "name": "ipython",
    "version": 3
   },
   "file_extension": ".py",
   "mimetype": "text/x-python",
   "name": "python",
   "nbconvert_exporter": "python",
   "pygments_lexer": "ipython3",
   "version": "3.7.3"
  }
 },
 "nbformat": 4,
 "nbformat_minor": 2
}
